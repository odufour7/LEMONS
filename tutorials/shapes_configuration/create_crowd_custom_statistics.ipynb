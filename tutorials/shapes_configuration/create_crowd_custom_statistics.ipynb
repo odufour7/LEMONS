{
 "cells": [
  {
   "cell_type": "markdown",
   "metadata": {},
   "source": [
    "# Create a crowd of pedestrians with custom statistics"
   ]
  },
  {
   "cell_type": "code",
   "execution_count": null,
   "metadata": {},
   "outputs": [],
   "source": [
    "import matplotlib.pyplot as plt\n",
    "from streamlit_app.plot import plot\n",
    "from shapely.geometry import Polygon\n",
    "from pathlib import Path\n",
    "\n",
    "import configuration.utils.constants as cst\n",
    "import configuration.backup.crowd_to_zip_and_reverse as fun_zip\n",
    "from configuration.models.crowd import Crowd\n",
    "from configuration.models.measures import CrowdMeasures\n",
    "\n",
    "%matplotlib inline\n",
    "\n",
    "# Constants\n",
    "boundaries = Polygon([(-200.0, -100.0), (200.0, -100.0), (200.0, 100.0), (-200.0, 100.0)])  # (cm)\n",
    "NUMBER_AGENTS: int = 40\n",
    "REPULSION_LENGTH: float = 5.0  # (cm)\n",
    "DESIRED_DIRECTION: float = 90.0  # (degrees)\n",
    "RANDOM_PACKING: bool = True\n",
    "agent_statistics = cst.CrowdStat.copy()\n",
    "\n",
    "# Update the agent statistics dictionary with custom values\n",
    "agent_statistics.update(\n",
    "    {\n",
    "        \"male_proportion\": 0.3,\n",
    "        \"male_bideltoid_breadth_mean\": 70.0,  # cm\n",
    "        \"male_bideltoid_breadth_std_dev\": 3.0,  # cm\n",
    "    }\n",
    ")\n",
    "\n",
    "# Create the packed crowd\n",
    "crowd_measures = CrowdMeasures(agent_statistics=agent_statistics)\n",
    "crowd = Crowd(boundaries=boundaries, measures=crowd_measures)\n",
    "crowd.create_agents(number_agents=NUMBER_AGENTS)\n",
    "crowd.pack_agents_with_forces(repulsion_length=REPULSION_LENGTH, desired_direction=DESIRED_DIRECTION, random_packing=RANDOM_PACKING)\n",
    "\n",
    "# Visualize results\n",
    "plot.display_crowd2D(crowd)\n",
    "plt.show()\n",
    "\n",
    "# Download the xml configuration files necessary for the simulation to a zip format\n",
    "output_zip_path = Path.cwd().parent.parent.parent / \"data\" / \"xml\" / \"crowd_custom.zip\"\n",
    "fun_zip.save_crowd_data_to_zip(crowd, output_zip_path)"
   ]
  },
  {
   "cell_type": "markdown",
   "metadata": {},
   "source": [
    "## Get some anthropometric statistics from the created crowd"
   ]
  },
  {
   "cell_type": "code",
   "execution_count": null,
   "metadata": {},
   "outputs": [],
   "source": [
    "import configuration.utils.functions as fun\n",
    "import pprint\n",
    "\n",
    "crowd_statistics = crowd.get_crowd_statistics()\n",
    "\n",
    "# Print the crowd statistics\n",
    "pprint.pprint(fun.filter_dict_by_not_None_values(crowd_statistics[\"measures\"]))"
   ]
  }
 ],
 "metadata": {
  "kernelspec": {
   "display_name": ".venv",
   "language": "python",
   "name": "python3"
  },
  "language_info": {
   "codemirror_mode": {
    "name": "ipython",
    "version": 3
   },
   "file_extension": ".py",
   "mimetype": "text/x-python",
   "name": "python",
   "nbconvert_exporter": "python",
   "pygments_lexer": "ipython3",
   "version": "3.13.3"
  }
 },
 "nbformat": 4,
 "nbformat_minor": 2
}
