{
 "cells": [
  {
   "cell_type": "markdown",
   "id": "0",
   "metadata": {},
   "source": [
    "# Read the configuration files"
   ]
  },
  {
   "cell_type": "markdown",
   "id": "1",
   "metadata": {},
   "source": [
    "## Create the crowd object"
   ]
  },
  {
   "cell_type": "code",
   "execution_count": null,
   "id": "2",
   "metadata": {},
   "outputs": [],
   "source": [
    "from pathlib import Path\n",
    "import configuration.backup.dict_to_xml_and_reverse as fun_xml\n",
    "from configuration.models.crowd import create_agents_from_dynamic_static_geometry_parameters\n",
    "\n",
    "# Open the configuration files, read them, and convert them to dictionaries\n",
    "config_files_folder_path = Path.cwd().parent.parent / \"data\" / \"xml\" / \"crowd_ANSURII_tutorial\"\n",
    "\n",
    "with open(config_files_folder_path / \"Agents.xml\", encoding=\"utf-8\") as f:\n",
    "    crowd_xml = f.read()\n",
    "static_dict = fun_xml.static_xml_to_dict(crowd_xml)\n",
    "\n",
    "with open(config_files_folder_path / \"Geometry.xml\", encoding=\"utf-8\") as f:\n",
    "    geometry_xml = f.read()\n",
    "geometry_dict = fun_xml.geometry_xml_to_dict(geometry_xml)\n",
    "\n",
    "with open(config_files_folder_path / \"AgentDynamics.xml\", encoding=\"utf-8\") as f:\n",
    "    dynamic_xml = f.read()\n",
    "dynamic_dict = fun_xml.dynamic_xml_to_dict(dynamic_xml)\n",
    "\n",
    "# Create the Crowd object and populate it with the data from the dictionaries\n",
    "crowd = create_agents_from_dynamic_static_geometry_parameters(\n",
    "    static_dict=static_dict,\n",
    "    dynamic_dict=dynamic_dict,\n",
    "    geometry_dict=geometry_dict,\n",
    ")"
   ]
  },
  {
   "cell_type": "markdown",
   "id": "3",
   "metadata": {},
   "source": [
    "## Display the crowd"
   ]
  },
  {
   "cell_type": "code",
   "execution_count": null,
   "id": "4",
   "metadata": {},
   "outputs": [],
   "source": [
    "from streamlit_app.plot import plot\n",
    "import matplotlib.pyplot as plt\n",
    "\n",
    "plot.display_crowd2D(crowd)\n",
    "plt.show()"
   ]
  },
  {
   "cell_type": "markdown",
   "id": "5",
   "metadata": {},
   "source": [
    "## Get some anthropometric statistics from the created crowd"
   ]
  },
  {
   "cell_type": "code",
   "execution_count": null,
   "id": "6",
   "metadata": {},
   "outputs": [],
   "source": [
    "import configuration.utils.functions as fun\n",
    "import pprint\n",
    "\n",
    "crowd_statistics = crowd.get_crowd_statistics()\n",
    "\n",
    "# Print the crowd statistics\n",
    "pprint.pprint(fun.filter_dict_by_not_None_values(crowd_statistics[\"measures\"]))"
   ]
  },
  {
   "cell_type": "code",
   "execution_count": null,
   "id": "7",
   "metadata": {},
   "outputs": [],
   "source": [
    "# Print the numbers observables\n",
    "pprint.pprint(crowd_statistics[\"stats_counts\"])"
   ]
  },
  {
   "cell_type": "code",
   "execution_count": null,
   "id": "8",
   "metadata": {},
   "outputs": [],
   "source": [
    "# Print the detailed distribution of the other observables\n",
    "pprint.pprint(fun.filter_dict_by_not_None_values(crowd_statistics[\"stats_lists\"]))"
   ]
  }
 ],
 "metadata": {
  "kernelspec": {
   "display_name": ".venv",
   "language": "python",
   "name": "python3"
  },
  "language_info": {
   "codemirror_mode": {
    "name": "ipython",
    "version": 3
   },
   "file_extension": ".py",
   "mimetype": "text/x-python",
   "name": "python",
   "nbconvert_exporter": "python",
   "pygments_lexer": "ipython3",
   "version": "3.13.3"
  }
 },
 "nbformat": 4,
 "nbformat_minor": 5
}
