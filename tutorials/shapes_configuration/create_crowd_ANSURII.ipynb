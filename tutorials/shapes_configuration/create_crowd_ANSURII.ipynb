{
 "cells": [
  {
   "cell_type": "markdown",
   "metadata": {},
   "source": [
    "# Create a crowd of pedestrians from the ANSURII dataset\n",
    "Visit the [database website](https://ph.health.mil/topics/workplacehealth/ergo/Pages/Anthropometric-Database.aspx)\n",
    "\n",
    "The created crowd is made of agents drawn uniformly from the ANSURII dataset. "
   ]
  },
  {
   "cell_type": "markdown",
   "metadata": {},
   "source": [
    "## With default parameters"
   ]
  },
  {
   "cell_type": "code",
   "execution_count": null,
   "metadata": {},
   "outputs": [],
   "source": [
    "from pathlib import Path\n",
    "\n",
    "import matplotlib.pyplot as plt\n",
    "\n",
    "from configuration.models.crowd import Crowd\n",
    "import configuration.backup.crowd_to_zip_and_reverse as fun_zip\n",
    "from streamlit_app.plot import plot\n",
    "\n",
    "# Initialize the crowd with default parameters\n",
    "crowd = Crowd()\n",
    "crowd.create_agents()\n",
    "crowd.pack_agents_with_forces()\n",
    "\n",
    "# Visualize the crowd\n",
    "fig = plot.display_crowd2D(crowd)\n",
    "plt.show()\n",
    "\n",
    "# Download the xml configuration files necessary for the simulation to a zip format\n",
    "output_zip_path = Path.cwd().parent.parent.parent / \"data\" / \"xml\" / \"crowd_ANSURII.zip\"\n",
    "fun_zip.save_crowd_data_to_zip(crowd, output_zip_path)"
   ]
  },
  {
   "cell_type": "markdown",
   "metadata": {},
   "source": [
    "## Changing default parameters"
   ]
  },
  {
   "cell_type": "markdown",
   "metadata": {},
   "source": [
    "We invite you to play with these parameters and see by yourself the effect on the overall crowd."
   ]
  },
  {
   "cell_type": "code",
   "execution_count": null,
   "metadata": {},
   "outputs": [],
   "source": [
    "from shapely.geometry import Polygon\n",
    "\n",
    "boundaries = Polygon([(-150.0, -100.0), (150.0, -100.0), (150.0, 100.0), (-150.0, 100.0)])  # (cm)\n",
    "NUMBER_AGENTS: int = 20\n",
    "REPULSION_LENGTH: float = 5.0  # (cm)\n",
    "DESIRED_DIRECTION: float = 90.0  # (degrees)"
   ]
  },
  {
   "cell_type": "markdown",
   "metadata": {},
   "source": [
    "### With random packing"
   ]
  },
  {
   "cell_type": "code",
   "execution_count": null,
   "metadata": {},
   "outputs": [],
   "source": [
    "# Parameters\n",
    "RANDOM_PACKING: bool = True\n",
    "boundaries = Polygon([(-150.0, -100.0), (150.0, -100.0), (150.0, 100.0), (-150.0, 100.0)])  # (cm)\n",
    "\n",
    "# Create a new crowd with specified parameters\n",
    "crowd = Crowd(boundaries=boundaries)\n",
    "crowd.create_agents(number_agents=NUMBER_AGENTS)\n",
    "crowd.pack_agents_with_forces(repulsion_length=REPULSION_LENGTH, desired_direction=DESIRED_DIRECTION, random_packing=RANDOM_PACKING)\n",
    "\n",
    "# Visualize results\n",
    "fig = plot.display_crowd2D(crowd)\n",
    "plt.show()"
   ]
  },
  {
   "cell_type": "markdown",
   "metadata": {},
   "source": [
    "### Without random packing"
   ]
  },
  {
   "cell_type": "code",
   "execution_count": null,
   "metadata": {},
   "outputs": [],
   "source": [
    "# Constant\n",
    "RANDOM_PACKING: bool = False\n",
    "\n",
    "# Create a new crowd with the same boundaries\n",
    "crowd = Crowd(boundaries=boundaries)\n",
    "crowd.create_agents(number_agents=NUMBER_AGENTS)\n",
    "crowd.pack_agents_with_forces(repulsion_length=REPULSION_LENGTH, desired_direction=DESIRED_DIRECTION, random_packing=RANDOM_PACKING)\n",
    "\n",
    "# Visualize results\n",
    "fig = plot.display_crowd2D(crowd)\n",
    "plt.show()"
   ]
  },
  {
   "cell_type": "markdown",
   "metadata": {},
   "source": [
    "### With more space around each agent"
   ]
  },
  {
   "cell_type": "code",
   "execution_count": null,
   "metadata": {},
   "outputs": [],
   "source": [
    "# Parameter\n",
    "REPULSION_LENGTH: float = 25.0  # (cm)\n",
    "\n",
    "# Create a new crowd with the same boundaries\n",
    "crowd = Crowd(boundaries=boundaries)\n",
    "crowd.create_agents(number_agents=NUMBER_AGENTS)\n",
    "crowd.pack_agents_with_forces(repulsion_length=REPULSION_LENGTH, desired_direction=DESIRED_DIRECTION, random_packing=RANDOM_PACKING)\n",
    "\n",
    "# Visualize the crowd\n",
    "fig = plot.display_crowd2D(crowd)\n",
    "plt.show()"
   ]
  },
  {
   "cell_type": "markdown",
   "metadata": {},
   "source": [
    "## In 3D"
   ]
  },
  {
   "cell_type": "code",
   "execution_count": null,
   "metadata": {},
   "outputs": [],
   "source": [
    "import plotly.graph_objects as go\n",
    "from IPython.display import Image\n",
    "from pathlib import Path\n",
    "\n",
    "# Create a 3D plot of the crowd\n",
    "fig_plotly: go.Figure = plot.display_crowd3D_whole_3Dscene(crowd)\n",
    "\n",
    "# Display the generated Plotly figure in the documentation\n",
    "path_data = Path.cwd().parent.parent / \"data\"\n",
    "fig_plotly.write_image(path_data / \"images\" / \"generated\" / \"crowd3D.png\", format=\"png\")\n",
    "Image(path_data / \"images\" / \"generated\" / \"crowd3D.png\")"
   ]
  },
  {
   "cell_type": "code",
   "execution_count": null,
   "metadata": {},
   "outputs": [],
   "source": [
    "# Create a 3D plot of the crowd with horizontal slices\n",
    "fig_plotly: go.Figure = plot.display_crowd3D_slices_by_slices(crowd)\n",
    "\n",
    "# Display the generated Plotly figure in the documentation\n",
    "path_data = Path.cwd().parent.parent / \"data\"\n",
    "fig_plotly.write_image(path_data / \"images\" / \"generated\" / \"crowd3D_horizontal_slices.png\", format=\"png\")\n",
    "Image(path_data / \"images\" / \"generated\" / \"crowd3D_horizontal_slices.png\")"
   ]
  }
 ],
 "metadata": {
  "kernelspec": {
   "display_name": ".venv",
   "language": "python",
   "name": "python3"
  },
  "language_info": {
   "codemirror_mode": {
    "name": "ipython",
    "version": 3
   },
   "file_extension": ".py",
   "mimetype": "text/x-python",
   "name": "python",
   "nbconvert_exporter": "python",
   "pygments_lexer": "ipython3",
   "version": "3.13.3"
  }
 },
 "nbformat": 4,
 "nbformat_minor": 2
}
