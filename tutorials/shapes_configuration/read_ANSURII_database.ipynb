{
 "cells": [
  {
   "cell_type": "markdown",
   "metadata": {},
   "source": [
    "# Read the ANSURII database"
   ]
  },
  {
   "cell_type": "code",
   "execution_count": null,
   "metadata": {},
   "outputs": [],
   "source": [
    "from pathlib import Path\n",
    "\n",
    "from streamlit_app.plot import plot\n",
    "import configuration.utils.functions as fun\n",
    "from IPython.display import Image\n",
    "\n",
    "# Define the path of the project containing the data\n",
    "path_data = Path.cwd().parent.parent / \"data\"\n",
    "\n",
    "# Load the ANSUR II dataset from a pickle file\n",
    "df_ANSURII = fun.load_pickle(str(path_data / \"pkl\" / \"ANSUREIIPublic.pkl\"))\n",
    "\n",
    "# Define default attributes to display in the plot\n",
    "default_attributes = [\n",
    "    \"Sex\",\n",
    "    \"Height [cm]\",\n",
    "    \"Chest depth [cm]\",\n",
    "    \"Bideltoid breadth [cm]\",\n",
    "]"
   ]
  },
  {
   "cell_type": "markdown",
   "metadata": {},
   "source": [
    "## Display the chest depth histograms"
   ]
  },
  {
   "cell_type": "code",
   "execution_count": null,
   "metadata": {},
   "outputs": [],
   "source": [
    "# Select an attribute to display (convert to lowercase for consistency)\n",
    "selected_attribute = default_attributes[2]\n",
    "\n",
    "# Generate a Plotly figure displaying the distribution of the selected attribute\n",
    "fig = plot.display_distribution(df_ANSURII, selected_attribute)\n",
    "\n",
    "# Display the generated Plotly figure in the documentation\n",
    "fig.write_image(path_data / \"images\" / \"generated\" / \"plot_database.png\", format=\"png\")\n",
    "Image(path_data / \"images\" / \"generated\" / \"plot_database.png\")"
   ]
  },
  {
   "cell_type": "markdown",
   "metadata": {},
   "source": [
    "## Display the bideltoid breadth histograms"
   ]
  },
  {
   "cell_type": "code",
   "execution_count": null,
   "metadata": {},
   "outputs": [],
   "source": [
    "# Select an attribute to display (convert to lowercase for consistency)\n",
    "selected_attribute = default_attributes[3]\n",
    "\n",
    "# Generate a Plotly figure displaying the distribution of the selected attribute\n",
    "fig = plot.display_distribution(df_ANSURII, selected_attribute)\n",
    "\n",
    "# Display the generated Plotly figure in the documentation\n",
    "fig.write_image(path_data / \"images\" / \"generated\" / \"plot_database.png\", format=\"png\")\n",
    "Image(path_data / \"images\" / \"generated\" / \"plot_database.png\")"
   ]
  },
  {
   "cell_type": "markdown",
   "metadata": {},
   "source": [
    "## Display the first keys and data of the database\n",
    "Many other parts of the body have been measured."
   ]
  },
  {
   "cell_type": "code",
   "execution_count": null,
   "metadata": {},
   "outputs": [],
   "source": [
    "print(f\"Database keys:\\n{df_ANSURII.keys()}\")"
   ]
  }
 ],
 "metadata": {
  "kernelspec": {
   "display_name": ".venv",
   "language": "python",
   "name": "python3"
  },
  "language_info": {
   "codemirror_mode": {
    "name": "ipython",
    "version": 3
   },
   "file_extension": ".py",
   "mimetype": "text/x-python",
   "name": "python",
   "nbconvert_exporter": "python",
   "pygments_lexer": "ipython3",
   "version": "3.13.3"
  }
 },
 "nbformat": 4,
 "nbformat_minor": 2
}
