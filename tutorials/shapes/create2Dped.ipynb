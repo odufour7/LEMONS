{
 "cells": [
  {
   "cell_type": "markdown",
   "metadata": {},
   "source": [
    "# Create a 2D pedestrian"
   ]
  },
  {
   "cell_type": "code",
   "execution_count": 2,
   "metadata": {},
   "outputs": [],
   "source": [
    "from configuration.models.agents import Agent\n",
    "from configuration.models.measures import AgentMeasures\n",
    "import configuration.utils.constants as cst\n",
    "\n",
    "# Define the type of agent to be created (e.g., pedestrian)\n",
    "agent_type = cst.AgentTypes.pedestrian\n",
    "\n",
    "# Define a dictionary containing measurements specific to the agent type\n",
    "measures = {\n",
    "    \"sex\": \"male\",  # Specify the sex of the agent\n",
    "    \"bideltoid_breadth\": 45.0,  # Shoulder breadth measurement in centimeters\n",
    "    \"chest_depth\": 25.0,  # Chest depth measurement in centimeters\n",
    "    \"height\": 180.0,  # Height of the agent in centimeters\n",
    "    \"weight\": 75.0, # Weight of the agent in kilograms\n",
    "}\n",
    "\n",
    "# Create an instance of AgentMeasures using the defined agent type and measurements\n",
    "agent_measures = AgentMeasures(agent_type=agent_type, measures=measures)\n",
    "\n",
    "# Create an instance of Agent using the defined agent type and measures object\n",
    "current_agent = Agent(agent_type=agent_type, measures=agent_measures)\n",
    "\n",
    "# Retrieve additional parameters for 2D shapes associated with the current agent\n",
    "shapes2D_dict = current_agent.shapes2D.get_additional_parameters()"
   ]
  },
  {
   "cell_type": "code",
   "execution_count": 3,
   "metadata": {},
   "outputs": [
    {
     "name": "stdout",
     "output_type": "stream",
     "text": [
      "{'disk0': {'material': 'human',\n",
      "           'radius': 0.08685010755956364,\n",
      "           'type': 'disk',\n",
      "           'x': -0.13804515018900204,\n",
      "           'y': 5.0501956259251184e-18},\n",
      " 'disk1': {'material': 'human',\n",
      "           'radius': 0.11943288740942146,\n",
      "           'type': 'disk',\n",
      "           'x': -0.06057535323919518,\n",
      "           'y': 0.026506158548673074},\n",
      " 'disk2': {'material': 'human',\n",
      "           'radius': 0.12484943142193577,\n",
      "           'type': 'disk',\n",
      "           'x': -1.102477672904104e-18,\n",
      "           'y': 0.031817576094243315},\n",
      " 'disk3': {'material': 'human',\n",
      "           'radius': 0.11943288740942146,\n",
      "           'type': 'disk',\n",
      "           'x': 0.06057535323919514,\n",
      "           'y': 0.02650615854867307},\n",
      " 'disk4': {'material': 'human',\n",
      "           'radius': 0.08685010755956361,\n",
      "           'type': 'disk',\n",
      "           'x': 0.13804515018900212,\n",
      "           'y': -1.7129820395841959e-18}}\n"
     ]
    }
   ],
   "source": [
    "import pprint\n",
    "pprint.pprint(shapes2D_dict)"
   ]
  }
 ],
 "metadata": {
  "kernelspec": {
   "display_name": ".venv",
   "language": "python",
   "name": "python3"
  },
  "language_info": {
   "codemirror_mode": {
    "name": "ipython",
    "version": 3
   },
   "file_extension": ".py",
   "mimetype": "text/x-python",
   "name": "python",
   "nbconvert_exporter": "python",
   "pygments_lexer": "ipython3",
   "version": "3.13.2"
  }
 },
 "nbformat": 4,
 "nbformat_minor": 2
}
