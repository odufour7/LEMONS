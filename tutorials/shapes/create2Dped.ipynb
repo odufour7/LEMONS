{
 "cells": [
  {
   "cell_type": "markdown",
   "metadata": {},
   "source": [
    "# Create a 2D pedestrian"
   ]
  },
  {
   "cell_type": "code",
   "execution_count": null,
   "metadata": {},
   "outputs": [
    {
     "name": "stdout",
     "output_type": "stream",
     "text": [
      "('<?xml version=\"1.0\" ?>\\n<crowd>\\n  <disk0>\\n    <shape_type>circle</shape_type>\\n    <young_modulus>1000000.0</young_modulus>\\n    <center>\\n      <item>-13.804515018900204</item>\\n      <item>5.050195625925118e-16</item>\\n    </center>\\n    <radius>8.685010755956364</radius>\\n  </disk0>\\n  <disk1>\\n    <shape_type>circle</shape_type>\\n    <young_modulus>1000000.0</young_modulus>\\n    <center>\\n      <item>-6.057535323919518</item>\\n      <item>2.6506158548673073</item>\\n    </center>\\n    <radius>11.943288740942146</radius>\\n  </disk1>\\n  <disk2>\\n    <shape_type>circle</shape_type>\\n    <young_modulus>1000000.0</young_modulus>\\n    <center>\\n      <item>-1.1024776729041038e-16</item>\\n      <item>3.181757609424331</item>\\n    </center>\\n    <radius>12.484943142193577</radius>\\n  </disk2>\\n  <disk3>\\n    <shape_type>circle</shape_type>\\n    <young_modulus>1000000.0</young_modulus>\\n    <center>\\n      <item>6.057535323919514</item>\\n      <item>2.650615854867307</item>\\n    </center>\\n    <radius>11.943288740942146</radius>\\n  </disk3>\\n  <disk4>\\n    <shape_type>circle</shape_type>\\n    <young_modulus>1000000.0</young_modulus>\\n    <center>\\n      <item>13.804515018900211</item>\\n      <item>-1.7129820395841959e-16</item>\\n    </center>\\n    <radius>8.68501075595636</radius>\\n  </disk4>\\n</crowd>', 'application/xml')\n"
     ]
    }
   ],
   "source": [
    "from shapes.classes.agents import Agent\n",
    "from shapes.classes.measures import AgentMeasures\n",
    "from shapes.utils import functions as fun\n",
    "import shapes.utils.constants as cst\n",
    "\n",
    "# Define the type of agent to be created (e.g., pedestrian)\n",
    "agent_type = cst.AgentTypes.pedestrian\n",
    "\n",
    "# Define a dictionary containing measurements specific to the agent type\n",
    "measures = {\n",
    "    \"sex\": \"male\",  # Specify the sex of the agent\n",
    "    \"bideltoid_breadth\": 45.0,  # Shoulder breadth measurement in centimeters\n",
    "    \"chest_depth\": 25.0,  # Chest depth measurement in centimeters\n",
    "    \"height\": 180.0,  # Height of the agent in centimeters\n",
    "    \"weight\": 75.0, # Weight of the agent in kilograms\n",
    "}\n",
    "\n",
    "# Create an instance of AgentMeasures using the defined agent type and measurements\n",
    "agent_measures = AgentMeasures(agent_type=agent_type, measures=measures)\n",
    "\n",
    "# Create an instance of Agent using the defined agent type and measures object\n",
    "current_agent = Agent(agent_type=agent_type, measures=agent_measures)\n",
    "\n",
    "# Retrieve additional parameters for 2D shapes associated with the current agent\n",
    "shapes2D_dict = current_agent.shapes2D.get_additional_parameters()\n",
    "\n",
    "# Convert the retrieved shape data into XML format using a utility function\n",
    "shapes2D_xml = fun.get_shapes_data(\"xml\", shapes2D_dict)\n",
    "\n",
    "# Print the generated XML representation of the 2D shapes data to the console\n",
    "print(shapes2D_xml)\n"
   ]
  }
 ],
 "metadata": {
  "kernelspec": {
   "display_name": ".venv",
   "language": "python",
   "name": "python3"
  },
  "language_info": {
   "codemirror_mode": {
    "name": "ipython",
    "version": 3
   },
   "file_extension": ".py",
   "mimetype": "text/x-python",
   "name": "python",
   "nbconvert_exporter": "python",
   "pygments_lexer": "ipython3",
   "version": "3.13.2"
  }
 },
 "nbformat": 4,
 "nbformat_minor": 2
}
