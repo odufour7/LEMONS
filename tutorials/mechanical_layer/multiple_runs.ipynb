{
 "cells": [
  {
   "cell_type": "markdown",
   "id": "4719795c",
   "metadata": {},
   "source": [
    "# Minimal crowd simulation example\n",
    "\n",
    "This guide explains how to run multiple simulations using the **CrowdMechanics** library and how to manage their outputs.\n",
    "\n",
    "---\n",
    "\n",
    "## 1. Export crowd configuration files\n",
    "\n",
    "1. Open the [**Streamlit app**](https://crowdmecha.streamlit.app/).\n",
    "2. Go to the **Crowd** tab.\n",
    "3. Click **\"Initialize your own crowd\"**.\n",
    "4. In the sidebar at the bottom, click **\"Export crowd as XML config files\"**.\n",
    "5. Download the XML files and save them in an appropriate location.\n",
    "\n",
    "---\n",
    "\n",
    "## 2. Set the working environnement\n",
    "\n",
    "Create two folders in your project directory `static` and `dynamic`. Place the following files that you downloaded from the Streamlit app in the respective folders:\n",
    "  - Move `Agents.xml`, `Geometry.xml`, and `Materials.xml` into the `static` folder.\n",
    "  - Move `AgentDynamics.xml` into the `Dynamic` folder.\n",
    "\n",
    "Create a `Parameters.xml` file in your actual folder location. Use the following template (replace the paths with your actual folder locations):\n",
    "\n",
    "```xml\n",
    "<?xml version=\"1.0\" encoding=\"utf-8\"?>\n",
    "<Parameters>\n",
    "    <Directories Static=\"./static/\" Dynamic=\"./dynamic/\"/>\n",
    "    <Times TimeStep=\"0.1\" TimeStepMechanical=\"1e-5\"/>\n",
    "</Parameters>\n",
    "```\n",
    "\n",
    "**Directory structure example:**\n",
    "```\n",
    ".\n",
    "├── Parameters.xml\n",
    "├── static/\n",
    "|   ├── Agents.xml\n",
    "│   ├── Geometry.xml\n",
    "│   └── Materials.xml\n",
    "└── dynamic/\n",
    "    └── AgentDynamics.xml\n",
    "```\n",
    "\n",
    "---\n",
    "\n",
    "## 3. Build the C++ project\n",
    "\n",
    "Navigate to the root of the `mechanical_layer` repository and build the project:\n",
    "\n",
    "```bash\n",
    "cmake -H. -Bbuild -DBUILD_SHARED_LIBS=ON\n",
    "cmake --build build\n",
    "```\n",
    "\n",
    "---\n",
    "\n",
    "## 4. Run a series of simulations\n",
    "\n",
    "Execute the Python code below, modifying it as needed for your experiments.\n",
    "Simulation results are automatically saved in the `outputXML/` directory.\n",
    "Each output file is named as follows:\n",
    "```\n",
    "AgentDynamics output t=TIME_VALUE.xml\n",
    "```\n",
    "Here, `TIME_VALUE` represents the specific simulation time or identifier for that run.\n",
    "\n"
   ]
  },
  {
   "cell_type": "code",
   "execution_count": 1,
   "id": "77d2df6a",
   "metadata": {},
   "outputs": [
    {
     "name": "stdout",
     "output_type": "stream",
     "text": [
      "Looping the Crowd mechanics engine - t=0.0s...\n",
      "Looping the Crowd mechanics engine - t=0.1s...\n"
     ]
    },
    {
     "name": "stderr",
     "output_type": "stream",
     "text": [
      "Error: no Dynamics tag present for agent 0\n"
     ]
    },
    {
     "name": "stdout",
     "output_type": "stream",
     "text": [
      "Looping the Crowd mechanics engine - t=0.2s...\n",
      "Looping the Crowd mechanics engine - t=0.3s...\n",
      "Looping the Crowd mechanics engine - t=0.4s...\n",
      "Looping the Crowd mechanics engine - t=0.5s...\n",
      "Looping the Crowd mechanics engine - t=0.6s...\n",
      "Looping the Crowd mechanics engine - t=0.7s...\n",
      "Looping the Crowd mechanics engine - t=0.8s...\n",
      "Looping the Crowd mechanics engine - t=0.9s...\n",
      "Loop terminated at t=1.0!\n"
     ]
    }
   ],
   "source": [
    "import ctypes\n",
    "from pathlib import Path\n",
    "from shutil import copyfile\n",
    "import xml.etree.ElementTree as ET\n",
    "\n",
    "### Parameters\n",
    "dt = 0.1  # The \"TimeStep\" in Parameters.xml\n",
    "Ndt = 10  # The number of successive calls to the library\n",
    "\n",
    "outputPath = \"outputXML/\"\n",
    "inputPath = \"inputXML/\"\n",
    "Path(outputPath).mkdir(parents=True, exist_ok=True)\n",
    "Path(inputPath).mkdir(parents=True, exist_ok=True)\n",
    "\n",
    "# Load the library into ctypes\n",
    "Clibrary = ctypes.CDLL(\"../../src/mechanical_layer/build/libCrowdMechanics.dylib\")  # Use .so for Linux and .dylib for MacOS\n",
    "# The file name for the dynamical quantities will be used to build the names of the output files\n",
    "agentDynamicsFilename = \"AgentDynamics.xml\"\n",
    "# Prepare the call to CrowdMechanics\n",
    "files = [b\"Parameters.xml\", b\"Materials.xml\", b\"Geometry.xml\", b\"Agents.xml\", agentDynamicsFilename.encode(\"ascii\")]\n",
    "nFiles = len(files)\n",
    "filesInput = (ctypes.c_char_p * nFiles)()\n",
    "filesInput[:] = files\n",
    "\n",
    "\n",
    "### Actual loop\n",
    "for t in range(Ndt):\n",
    "    print(\"Looping the Crowd mechanics engine - t=%.1fs...\" % (t * dt))\n",
    "    # Copy Agent dynamics input file\n",
    "    copyfile(\"dynamic/\" + agentDynamicsFilename, inputPath + rf\"AgentDynamics input t={t * dt:.1f}.xml\")\n",
    "    # Call the mechanical layer\n",
    "    Clibrary.CrowdMechanics(filesInput)\n",
    "    # Copy Agent dynamics output file to the directory that will be read by ChAOS\n",
    "    copyfile(\"dynamic/\" + agentDynamicsFilename, outputPath + rf\"AgentDynamics output t={(t + 1) * dt:.1f}.xml\")\n",
    "    # Save the AgentInteractions file, if it exists\n",
    "    try:\n",
    "        copyfile(\"dynamic/AgentInteractions.xml\", outputPath + rf\"AgentInteractions t={(t + 1) * dt:.1f}.xml\")\n",
    "    except FileNotFoundError:\n",
    "        pass\n",
    "    # Prepare next run: Add dynamics tag to the input file\n",
    "    # This is the step where you decide the Fp and Mp that will drive the next dt seconds for each agent\n",
    "    XMLtree = ET.parse(\"dynamic/\" + agentDynamicsFilename)\n",
    "    agentsTree = XMLtree.getroot()\n",
    "\n",
    "    ######################################################################################\n",
    "    ####### Sample dummy code where we put the same constant values for each agent #######\n",
    "    ####### (can be replaced with your own decisional layer code)                  #######\n",
    "    for agent in agentsTree:\n",
    "        dynamicsItem = ET.SubElement(agent, \"Dynamics\")\n",
    "        dynamicsItem.attrib[\"Fp\"] = \"100,100\"\n",
    "        dynamicsItem.attrib[\"Mp\"] = \"10\"\n",
    "    ######################################################################################\n",
    "\n",
    "    XMLtree.write(\"dynamic/\" + agentDynamicsFilename)\n",
    "\n",
    "# Done!\n",
    "print(f\"Loop terminated at t={Ndt * dt:.1f}!\")"
   ]
  },
  {
   "cell_type": "markdown",
   "id": "3c92a721",
   "metadata": {},
   "source": [
    "For a c++ example file and precise explanations, read the `Mechanical layer` tutorial."
   ]
  },
  {
   "cell_type": "markdown",
   "id": "56074c23",
   "metadata": {},
   "source": [
    "---\n",
    "\n",
    "## 5. Export to ChAOS\n",
    "\n",
    "The output files can be easily converted into `.csv` files structured for direct import into [ChAOS](https://project.inria.fr/crowdscience/project/ocsr/chaos/). ChAOS uses these CSV files—containing time, x, and y coordinates for each agent—to visualize and animate agent trajectories for further analysis and video generation."
   ]
  },
  {
   "cell_type": "code",
   "execution_count": 2,
   "id": "db4144aa",
   "metadata": {},
   "outputs": [
    {
     "name": "stdout",
     "output_type": "stream",
     "text": [
      "Processing file: /Volumes/desk_oscar/main/cours/phd_first_year/shape_project/Shape/tutorials/mechanical_layer/outputXML/AgentDynamics output t=0.1.xml\n",
      "Processing file: /Volumes/desk_oscar/main/cours/phd_first_year/shape_project/Shape/tutorials/mechanical_layer/outputXML/AgentDynamics output t=0.2.xml\n",
      "Processing file: /Volumes/desk_oscar/main/cours/phd_first_year/shape_project/Shape/tutorials/mechanical_layer/outputXML/AgentDynamics output t=0.3.xml\n",
      "Processing file: /Volumes/desk_oscar/main/cours/phd_first_year/shape_project/Shape/tutorials/mechanical_layer/outputXML/AgentDynamics output t=0.4.xml\n",
      "Processing file: /Volumes/desk_oscar/main/cours/phd_first_year/shape_project/Shape/tutorials/mechanical_layer/outputXML/AgentDynamics output t=0.5.xml\n",
      "Processing file: /Volumes/desk_oscar/main/cours/phd_first_year/shape_project/Shape/tutorials/mechanical_layer/outputXML/AgentDynamics output t=0.6.xml\n",
      "Processing file: /Volumes/desk_oscar/main/cours/phd_first_year/shape_project/Shape/tutorials/mechanical_layer/outputXML/AgentDynamics output t=0.7.xml\n",
      "Processing file: /Volumes/desk_oscar/main/cours/phd_first_year/shape_project/Shape/tutorials/mechanical_layer/outputXML/AgentDynamics output t=0.8.xml\n",
      "Processing file: /Volumes/desk_oscar/main/cours/phd_first_year/shape_project/Shape/tutorials/mechanical_layer/outputXML/AgentDynamics output t=0.9.xml\n",
      "Processing file: /Volumes/desk_oscar/main/cours/phd_first_year/shape_project/Shape/tutorials/mechanical_layer/outputXML/AgentDynamics output t=1.0.xml\n",
      "\n",
      "* Trajectories have been converted to Chaos-compatible files\n"
     ]
    }
   ],
   "source": [
    "from configuration.backup import xml_to_Chaos\n",
    "\n",
    "filenameCSV = \"all_trajectories.csv\"\n",
    "PathXML = Path(\"outputXML\").resolve()\n",
    "PathCSV = Path(\"outputCSV\").resolve()\n",
    "PathCSV.mkdir(parents=True, exist_ok=True)\n",
    "\n",
    "xml_to_Chaos.export_dict_to_CSV(PathCSV, PathXML)\n",
    "xml_to_Chaos.export_from_CSV_to_CHAOS(PathCSV, dt)"
   ]
  }
 ],
 "metadata": {
  "kernelspec": {
   "display_name": ".venv",
   "language": "python",
   "name": "python3"
  },
  "language_info": {
   "codemirror_mode": {
    "name": "ipython",
    "version": 3
   },
   "file_extension": ".py",
   "mimetype": "text/x-python",
   "name": "python",
   "nbconvert_exporter": "python",
   "pygments_lexer": "ipython3",
   "version": "3.13.3"
  }
 },
 "nbformat": 4,
 "nbformat_minor": 5
}
