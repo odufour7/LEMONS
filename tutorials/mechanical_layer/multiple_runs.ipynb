{
 "cells": [
  {
   "cell_type": "markdown",
   "id": "4719795c",
   "metadata": {},
   "source": [
    "# Running a series of simulations\n",
    "\n",
    "This guide explains how to run multiple simulations using the **CrowdMechanics** library and how to manage their outputs.\n",
    "\n",
    "## Steps\n",
    "\n",
    "1. **Run simulations:**  \n",
    "   The script will execute several calls to the CrowdMechanics library, each representing a different simulation scenario or time step.\n",
    "\n",
    "2. **Save outputs:**  \n",
    "   Simulation results are automatically saved in the `outputXML/` folder.\n",
    "\n",
    "3. **File naming:**  \n",
    "   Each output file follows this pattern:  \n",
    "   ```\n",
    "   AgentDynamics output t=TIME_VALUE.xml\n",
    "   ```\n",
    "   Replace `TIME_VALUE` with the corresponding simulation time or identifier.\n",
    "\n",
    "4. **Export to ChAOS:**  \n",
    "   The output files can be easily converted into `.csv` files structured for direct import into [ChAOS](https://project.inria.fr/crowdscience/project/ocsr/chaos/). ChAOS uses these CSV files—containing time, x, and y coordinates for each agent—to visualize and animate agent trajectories for further analysis and video generation."
   ]
  },
  {
   "cell_type": "markdown",
   "id": "e3ecc2be",
   "metadata": {},
   "source": [
    "## Simulation"
   ]
  },
  {
   "cell_type": "code",
   "execution_count": null,
   "id": "77d2df6a",
   "metadata": {},
   "outputs": [
    {
     "name": "stdout",
     "output_type": "stream",
     "text": [
      "Looping the Crowd mechanics engine - t=0.0s...\n",
      "Looping the Crowd mechanics engine - t=0.1s...\n",
      "Looping the Crowd mechanics engine - t=0.2s...\n",
      "Looping the Crowd mechanics engine - t=0.3s...\n",
      "Looping the Crowd mechanics engine - t=0.4s...\n",
      "Looping the Crowd mechanics engine - t=0.5s...\n",
      "Looping the Crowd mechanics engine - t=0.6s...\n",
      "Looping the Crowd mechanics engine - t=0.7s...\n",
      "Looping the Crowd mechanics engine - t=0.8s...\n",
      "Looping the Crowd mechanics engine - t=0.9s...\n",
      "Loop terminated at t=1.0!\n"
     ]
    },
    {
     "name": "stderr",
     "output_type": "stream",
     "text": [
      "Error: no Dynamics tag present for agent 0\n",
      "Error: no Dynamics tag present for agent 0\n",
      "Error: no Dynamics tag present for agent 0\n",
      "Error: no Dynamics tag present for agent 0\n",
      "Error: no Dynamics tag present for agent 0\n",
      "Error: no Dynamics tag present for agent 0\n",
      "Error: no Dynamics tag present for agent 0\n",
      "Error: no Dynamics tag present for agent 0\n",
      "Error: no Dynamics tag present for agent 0\n",
      "Error: no Dynamics tag present for agent 0\n"
     ]
    }
   ],
   "source": [
    "import ctypes\n",
    "from pathlib import Path\n",
    "from shutil import copyfile\n",
    "import xml.etree.ElementTree as ET\n",
    "\n",
    "### Parameters\n",
    "dt = 0.1  # The \"TimeStep\" in Parameters.xml\n",
    "Ndt = 10  # The number of successive calls to the library\n",
    "\n",
    "outputPath = \"outputXML/\"\n",
    "inputPath = \"inputXML/\"\n",
    "Path(outputPath).mkdir(parents=True, exist_ok=True)\n",
    "Path(inputPath).mkdir(parents=True, exist_ok=True)\n",
    "\n",
    "# Load the library into ctypes\n",
    "Clibrary = ctypes.CDLL(\"../../src/mechanical_layer/build/libCrowdMechanics.dylib\")  # Use .so for Linux and .dylib for MacOS\n",
    "# The file name for the dynamical quantities will be used to build the names of the output files\n",
    "agentDynamicsFilename = \"AgentDynamics.xml\"\n",
    "# Prepare the call to CrowdMechanics\n",
    "files = [b\"Parameters.xml\", b\"Materials.xml\", b\"Geometry.xml\", b\"Agents.xml\", agentDynamicsFilename.encode(\"ascii\")]\n",
    "nFiles = len(files)\n",
    "filesInput = (ctypes.c_char_p * nFiles)()\n",
    "filesInput[:] = files\n",
    "\n",
    "\n",
    "### Actual loop\n",
    "for t in range(Ndt):\n",
    "    print(\"Looping the Crowd mechanics engine - t=%.1fs...\" % (t * dt))\n",
    "    # Copy Agent dynamics input file\n",
    "    copyfile(\"dynamic/\" + agentDynamicsFilename, inputPath + rf\"AgentDynamics input t={t * dt:.1f}.xml\")\n",
    "    # Call the mechanical layer\n",
    "    Clibrary.CrowdMechanics(filesInput)\n",
    "    # Copy Agent dynamics output file to the directory that will be read by ChAOS\n",
    "    copyfile(\"dynamic/\" + agentDynamicsFilename, outputPath + rf\"AgentDynamics output t={(t + 1) * dt:.1f}.xml\")\n",
    "    # Save the AgentInteractions file, if it exists\n",
    "    try:\n",
    "        copyfile(\"dynamic/AgentInteractions.xml\", outputPath + rf\"AgentInteractions t={(t + 1) * dt:.1f}.xml\")\n",
    "    except FileNotFoundError:\n",
    "        pass\n",
    "    # Prepare next run: Add dynamics tag to the input file\n",
    "    # This is the step where you decide the Fp and Mp that will drive the next dt seconds for each agent\n",
    "    XMLtree = ET.parse(\"dynamic/\" + agentDynamicsFilename)\n",
    "    agentsTree = XMLtree.getroot()\n",
    "\n",
    "    \"\"\" Sample dummy code where we put the same constant values for each agent (can be replaced by your own decisional layer code)\n",
    "        for agent in agentsTree:\n",
    "            dynamicsItem = ET.SubElement(agent, \"Dynamics\")\n",
    "            dynamicsItem.attrib[\"Fp\"] = \"100,100\"\n",
    "            dynamicsItem.attrib[\"Mp\"] = \"10\"\n",
    "        To be replaced...\n",
    "    \"\"\"\n",
    "\n",
    "    XMLtree.write(\"dynamic/\" + agentDynamicsFilename)\n",
    "\n",
    "# Done!\n",
    "print(f\"Loop terminated at t={Ndt * dt:.1f}!\")"
   ]
  },
  {
   "cell_type": "markdown",
   "id": "56074c23",
   "metadata": {},
   "source": [
    "## Export to ChAOS"
   ]
  },
  {
   "cell_type": "code",
   "execution_count": 2,
   "id": "db4144aa",
   "metadata": {},
   "outputs": [
    {
     "name": "stdout",
     "output_type": "stream",
     "text": [
      "Processing file: /Volumes/desk_oscar/main/cours/phd_first_year/shape_project/Shape/tutorials/mechanical_layer/outputXML/AgentDynamics output t=0.1.xml\n",
      "Processing file: /Volumes/desk_oscar/main/cours/phd_first_year/shape_project/Shape/tutorials/mechanical_layer/outputXML/AgentDynamics output t=0.2.xml\n",
      "Processing file: /Volumes/desk_oscar/main/cours/phd_first_year/shape_project/Shape/tutorials/mechanical_layer/outputXML/AgentDynamics output t=0.3.xml\n",
      "Processing file: /Volumes/desk_oscar/main/cours/phd_first_year/shape_project/Shape/tutorials/mechanical_layer/outputXML/AgentDynamics output t=0.4.xml\n",
      "Processing file: /Volumes/desk_oscar/main/cours/phd_first_year/shape_project/Shape/tutorials/mechanical_layer/outputXML/AgentDynamics output t=0.5.xml\n",
      "Processing file: /Volumes/desk_oscar/main/cours/phd_first_year/shape_project/Shape/tutorials/mechanical_layer/outputXML/AgentDynamics output t=0.6.xml\n",
      "Processing file: /Volumes/desk_oscar/main/cours/phd_first_year/shape_project/Shape/tutorials/mechanical_layer/outputXML/AgentDynamics output t=0.7.xml\n",
      "Processing file: /Volumes/desk_oscar/main/cours/phd_first_year/shape_project/Shape/tutorials/mechanical_layer/outputXML/AgentDynamics output t=0.8.xml\n",
      "Processing file: /Volumes/desk_oscar/main/cours/phd_first_year/shape_project/Shape/tutorials/mechanical_layer/outputXML/AgentDynamics output t=0.9.xml\n",
      "Processing file: /Volumes/desk_oscar/main/cours/phd_first_year/shape_project/Shape/tutorials/mechanical_layer/outputXML/AgentDynamics output t=1.0.xml\n",
      "t_min = 0.100, t_max = 1.000, dt = 0.100\n",
      "* Trajectories have been converted to Chaos-compatible files\n"
     ]
    }
   ],
   "source": [
    "from configuration.backup import xml_to_Chaos\n",
    "\n",
    "filenameCSV = \"all_trajectories.csv\"\n",
    "PathXML = Path(\"outputXML\").resolve()\n",
    "PathCSV = Path(\"outputCSV\").resolve()\n",
    "PathCSV.mkdir(parents=True, exist_ok=True)\n",
    "\n",
    "xml_to_Chaos.export_dict_to_CSV(PathCSV, PathXML)\n",
    "xml_to_Chaos.export_from_CSV_to_CHAOS(PathCSV, dt)"
   ]
  }
 ],
 "metadata": {
  "kernelspec": {
   "display_name": ".venv",
   "language": "python",
   "name": "python3"
  },
  "language_info": {
   "codemirror_mode": {
    "name": "ipython",
    "version": 3
   },
   "file_extension": ".py",
   "mimetype": "text/x-python",
   "name": "python",
   "nbconvert_exporter": "python",
   "pygments_lexer": "ipython3",
   "version": "3.13.3"
  }
 },
 "nbformat": 4,
 "nbformat_minor": 5
}
